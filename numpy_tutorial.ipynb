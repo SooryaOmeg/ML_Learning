{
 "cells": [
  {
   "cell_type": "markdown",
   "id": "5a89631b22f7a013",
   "metadata": {},
   "source": [
    "Basics"
   ]
  },
  {
   "cell_type": "code",
   "execution_count": 1,
   "id": "initial_id",
   "metadata": {
    "ExecuteTime": {
     "end_time": "2024-11-21T14:58:21.802940Z",
     "start_time": "2024-11-21T14:58:21.312842Z"
    },
    "collapsed": true
   },
   "outputs": [],
   "source": [
    "import numpy as np"
   ]
  },
  {
   "cell_type": "code",
   "execution_count": 17,
   "id": "fbea5b0cc6c0a8e0",
   "metadata": {
    "ExecuteTime": {
     "end_time": "2024-11-21T15:25:27.651092Z",
     "start_time": "2024-11-21T15:25:27.640514Z"
    }
   },
   "outputs": [
    {
     "name": "stdout",
     "output_type": "stream",
     "text": [
      "[1 2 3]\n"
     ]
    }
   ],
   "source": [
    "a = np.array([1, 2, 3], dtype='int32')\n",
    "print(a)"
   ]
  },
  {
   "cell_type": "code",
   "execution_count": 5,
   "id": "bb61b098b5031ac4",
   "metadata": {
    "ExecuteTime": {
     "end_time": "2024-11-21T15:00:33.222856Z",
     "start_time": "2024-11-21T15:00:33.194186Z"
    }
   },
   "outputs": [
    {
     "name": "stdout",
     "output_type": "stream",
     "text": [
      "[[9. 8. 7.]\n",
      " [6. 5. 4.]]\n"
     ]
    }
   ],
   "source": [
    "b = np.array([[9.0,8.0,7.0],[6.0,5.0,4.0]])\n",
    "print(b)"
   ]
  },
  {
   "cell_type": "code",
   "execution_count": 7,
   "id": "5aafabf6dadd5405",
   "metadata": {
    "ExecuteTime": {
     "end_time": "2024-11-21T15:02:24.824317Z",
     "start_time": "2024-11-21T15:02:24.811201Z"
    }
   },
   "outputs": [
    {
     "data": {
      "text/plain": [
       "2"
      ]
     },
     "execution_count": 7,
     "metadata": {},
     "output_type": "execute_result"
    }
   ],
   "source": [
    "# Get dimensions\n",
    "b.ndim"
   ]
  },
  {
   "cell_type": "code",
   "execution_count": 9,
   "id": "f83f39189543a1d2",
   "metadata": {
    "ExecuteTime": {
     "end_time": "2024-11-21T15:02:36.352227Z",
     "start_time": "2024-11-21T15:02:36.342027Z"
    }
   },
   "outputs": [
    {
     "data": {
      "text/plain": [
       "(2, 3)"
      ]
     },
     "execution_count": 9,
     "metadata": {},
     "output_type": "execute_result"
    }
   ],
   "source": [
    "b.shape"
   ]
  },
  {
   "cell_type": "code",
   "execution_count": 14,
   "id": "4c053386cf3fa327",
   "metadata": {
    "ExecuteTime": {
     "end_time": "2024-11-21T15:24:23.058368Z",
     "start_time": "2024-11-21T15:24:23.050353Z"
    }
   },
   "outputs": [
    {
     "data": {
      "text/plain": [
       "dtype('int16')"
      ]
     },
     "execution_count": 14,
     "metadata": {},
     "output_type": "execute_result"
    }
   ],
   "source": [
    "a.dtype"
   ]
  },
  {
   "cell_type": "code",
   "execution_count": 18,
   "id": "2f23113a50da1f78",
   "metadata": {
    "ExecuteTime": {
     "end_time": "2024-11-21T15:25:30.044695Z",
     "start_time": "2024-11-21T15:25:30.035614Z"
    }
   },
   "outputs": [
    {
     "data": {
      "text/plain": [
       "4"
      ]
     },
     "execution_count": 18,
     "metadata": {},
     "output_type": "execute_result"
    }
   ],
   "source": [
    "a.itemsize"
   ]
  },
  {
   "cell_type": "code",
   "execution_count": 19,
   "id": "2e6b2eb598012db6",
   "metadata": {
    "ExecuteTime": {
     "end_time": "2024-11-21T15:25:31.159431Z",
     "start_time": "2024-11-21T15:25:31.148822Z"
    }
   },
   "outputs": [
    {
     "data": {
      "text/plain": [
       "12"
      ]
     },
     "execution_count": 19,
     "metadata": {},
     "output_type": "execute_result"
    }
   ],
   "source": [
    "a.nbytes"
   ]
  },
  {
   "cell_type": "markdown",
   "id": "c073e52c3b516642",
   "metadata": {},
   "source": [
    "Changing specific elements"
   ]
  },
  {
   "cell_type": "code",
   "execution_count": 12,
   "id": "ace5878fd09585eb",
   "metadata": {},
   "outputs": [
    {
     "data": {
      "text/plain": [
       "array([[ 1,  2,  3,  4,  5,  6,  7],\n",
       "       [ 8,  9, 10, 11, 12, 13, 14]])"
      ]
     },
     "execution_count": 12,
     "metadata": {},
     "output_type": "execute_result"
    }
   ],
   "source": [
    "a = np.array([[1,2,3,4,5,6,7],[8,9,10,11,12,13,14]])\n",
    "a"
   ]
  },
  {
   "cell_type": "code",
   "execution_count": 8,
   "id": "9dd89a7f",
   "metadata": {},
   "outputs": [
    {
     "name": "stdout",
     "output_type": "stream",
     "text": [
      "13\n"
     ]
    }
   ],
   "source": [
    "print(a[1,-2])"
   ]
  },
  {
   "cell_type": "code",
   "execution_count": 9,
   "id": "afb7db69",
   "metadata": {},
   "outputs": [
    {
     "data": {
      "text/plain": [
       "array([1, 2, 3, 4, 5, 6, 7])"
      ]
     },
     "execution_count": 9,
     "metadata": {},
     "output_type": "execute_result"
    }
   ],
   "source": [
    "a[0,:]"
   ]
  },
  {
   "cell_type": "code",
   "execution_count": 10,
   "id": "e1f3a3fc",
   "metadata": {},
   "outputs": [
    {
     "data": {
      "text/plain": [
       "array([ 3, 10])"
      ]
     },
     "execution_count": 10,
     "metadata": {},
     "output_type": "execute_result"
    }
   ],
   "source": [
    "a[:,2]"
   ]
  },
  {
   "cell_type": "code",
   "execution_count": 11,
   "id": "9ca8fbdb",
   "metadata": {},
   "outputs": [
    {
     "data": {
      "text/plain": [
       "array([2, 4, 6])"
      ]
     },
     "execution_count": 11,
     "metadata": {},
     "output_type": "execute_result"
    }
   ],
   "source": [
    "a[0,1:6:2]"
   ]
  },
  {
   "cell_type": "markdown",
   "id": "b95e67da",
   "metadata": {},
   "source": [
    "Different Types of Arrays"
   ]
  },
  {
   "cell_type": "code",
   "execution_count": 13,
   "id": "d829c45b",
   "metadata": {},
   "outputs": [
    {
     "data": {
      "text/plain": [
       "array([0., 0., 0., 0., 0.])"
      ]
     },
     "execution_count": 13,
     "metadata": {},
     "output_type": "execute_result"
    }
   ],
   "source": [
    "np.zeros(5)"
   ]
  },
  {
   "cell_type": "code",
   "execution_count": 14,
   "id": "e3620bcd",
   "metadata": {},
   "outputs": [
    {
     "data": {
      "text/plain": [
       "array([[[1., 1.],\n",
       "        [1., 1.],\n",
       "        [1., 1.]],\n",
       "\n",
       "       [[1., 1.],\n",
       "        [1., 1.],\n",
       "        [1., 1.]],\n",
       "\n",
       "       [[1., 1.],\n",
       "        [1., 1.],\n",
       "        [1., 1.]],\n",
       "\n",
       "       [[1., 1.],\n",
       "        [1., 1.],\n",
       "        [1., 1.]]])"
      ]
     },
     "execution_count": 14,
     "metadata": {},
     "output_type": "execute_result"
    }
   ],
   "source": [
    "np.ones((4,3,2))"
   ]
  },
  {
   "cell_type": "code",
   "execution_count": 15,
   "id": "9cf24fd7",
   "metadata": {},
   "outputs": [
    {
     "data": {
      "text/plain": [
       "array([[100, 100, 100, 100],\n",
       "       [100, 100, 100, 100],\n",
       "       [100, 100, 100, 100]])"
      ]
     },
     "execution_count": 15,
     "metadata": {},
     "output_type": "execute_result"
    }
   ],
   "source": [
    "np.full((3,4),100)"
   ]
  },
  {
   "cell_type": "code",
   "execution_count": 17,
   "id": "cfbbdfd1",
   "metadata": {},
   "outputs": [
    {
     "data": {
      "text/plain": [
       "array([[4, 4, 4, 4, 4, 4, 4],\n",
       "       [4, 4, 4, 4, 4, 4, 4]])"
      ]
     },
     "execution_count": 17,
     "metadata": {},
     "output_type": "execute_result"
    }
   ],
   "source": [
    "np.full_like(a,4)"
   ]
  },
  {
   "cell_type": "code",
   "execution_count": 21,
   "id": "e3efa95b",
   "metadata": {},
   "outputs": [
    {
     "data": {
      "text/plain": [
       "array([[0.73566603, 0.78101385, 0.05837545, 0.77660066, 0.33723507],\n",
       "       [0.73086872, 0.99205912, 0.44645838, 0.20778753, 0.37088183],\n",
       "       [0.47505199, 0.89496266, 0.34977731, 0.01076744, 0.75563323],\n",
       "       [0.42191784, 0.03009651, 0.73994147, 0.28682972, 0.96372395]])"
      ]
     },
     "execution_count": 21,
     "metadata": {},
     "output_type": "execute_result"
    }
   ],
   "source": [
    "np.random.rand(4,5)"
   ]
  },
  {
   "cell_type": "code",
   "execution_count": 29,
   "id": "4b52494d",
   "metadata": {},
   "outputs": [
    {
     "data": {
      "text/plain": [
       "array([[77, 38, 14, 39, 28],\n",
       "       [36, 76, 31, 92, 60],\n",
       "       [77, 38, 60, 40, 41],\n",
       "       [85, 61, 83, 52, 37]], dtype=int32)"
      ]
     },
     "execution_count": 29,
     "metadata": {},
     "output_type": "execute_result"
    }
   ],
   "source": [
    "np.random.randint(low=10, high=100, size=(4,5))"
   ]
  },
  {
   "cell_type": "code",
   "execution_count": 30,
   "id": "3e07d2e7",
   "metadata": {},
   "outputs": [
    {
     "data": {
      "text/plain": [
       "array([[1., 0., 0., 0.],\n",
       "       [0., 1., 0., 0.],\n",
       "       [0., 0., 1., 0.],\n",
       "       [0., 0., 0., 1.]])"
      ]
     },
     "execution_count": 30,
     "metadata": {},
     "output_type": "execute_result"
    }
   ],
   "source": [
    "np.identity(4)"
   ]
  },
  {
   "cell_type": "code",
   "execution_count": 4,
   "id": "9240a480",
   "metadata": {},
   "outputs": [
    {
     "data": {
      "text/plain": [
       "array([[1, 2, 3],\n",
       "       [1, 2, 3],\n",
       "       [1, 2, 3]])"
      ]
     },
     "execution_count": 4,
     "metadata": {},
     "output_type": "execute_result"
    }
   ],
   "source": [
    "a = np.array([[1,2,3]])\n",
    "b = np.repeat(a,3,axis=0)\n",
    "b"
   ]
  },
  {
   "cell_type": "code",
   "execution_count": 9,
   "id": "56e0153c",
   "metadata": {},
   "outputs": [
    {
     "name": "stdout",
     "output_type": "stream",
     "text": [
      "[[1. 1. 1. 1. 1.]\n",
      " [1. 0. 0. 0. 1.]\n",
      " [1. 0. 9. 0. 1.]\n",
      " [1. 0. 0. 0. 1.]\n",
      " [1. 1. 1. 1. 1.]]\n"
     ]
    }
   ],
   "source": [
    "arr = np.ones((5,5))\n",
    "arr[1:-1,1:-1] = np.zeros((3,3))\n",
    "arr[2,2] = 9\n",
    "\n",
    "print(arr)"
   ]
  },
  {
   "cell_type": "markdown",
   "id": "9e604dce",
   "metadata": {},
   "source": [
    "###### BE CAREFUL WHILE COPYING ARRAYS !!!!"
   ]
  },
  {
   "cell_type": "code",
   "execution_count": null,
   "id": "a5cbef1f",
   "metadata": {},
   "outputs": [
    {
     "name": "stdout",
     "output_type": "stream",
     "text": [
      "[100   2   3]\n",
      "[100   2   3]\n"
     ]
    }
   ],
   "source": [
    "#### Warning #####\n",
    "a = np.array([1,2,3])\n",
    "b = a\n",
    "b[0] = 100\n",
    "print(a)\n",
    "print(b)"
   ]
  },
  {
   "cell_type": "code",
   "execution_count": 12,
   "id": "ba410ca6",
   "metadata": {},
   "outputs": [
    {
     "name": "stdout",
     "output_type": "stream",
     "text": [
      "[1 2 3]\n",
      "[100   2   3]\n"
     ]
    }
   ],
   "source": [
    "a = np.array([1,2,3])\n",
    "b = a.copy()\n",
    "b[0] = 100\n",
    "print(a)\n",
    "print(b)"
   ]
  },
  {
   "cell_type": "markdown",
   "id": "5f1d2a9a",
   "metadata": {},
   "source": [
    "Mathematics"
   ]
  },
  {
   "cell_type": "code",
   "execution_count": 13,
   "id": "b87d2646",
   "metadata": {},
   "outputs": [
    {
     "name": "stdout",
     "output_type": "stream",
     "text": [
      "[1 2 3 4]\n"
     ]
    }
   ],
   "source": [
    "a = np.array([1,2,3,4])\n",
    "print(a)"
   ]
  },
  {
   "cell_type": "code",
   "execution_count": 14,
   "id": "f46f95cb",
   "metadata": {},
   "outputs": [
    {
     "data": {
      "text/plain": [
       "array([3, 4, 5, 6])"
      ]
     },
     "execution_count": 14,
     "metadata": {},
     "output_type": "execute_result"
    }
   ],
   "source": [
    "a + 2"
   ]
  },
  {
   "cell_type": "code",
   "execution_count": 15,
   "id": "25be4880",
   "metadata": {},
   "outputs": [
    {
     "data": {
      "text/plain": [
       "array([-1,  0,  1,  2])"
      ]
     },
     "execution_count": 15,
     "metadata": {},
     "output_type": "execute_result"
    }
   ],
   "source": [
    "a - 2"
   ]
  },
  {
   "cell_type": "code",
   "execution_count": 16,
   "id": "94eeab03",
   "metadata": {},
   "outputs": [
    {
     "data": {
      "text/plain": [
       "array([2, 4, 6, 8])"
      ]
     },
     "execution_count": 16,
     "metadata": {},
     "output_type": "execute_result"
    }
   ],
   "source": [
    "a * 2"
   ]
  },
  {
   "cell_type": "code",
   "execution_count": 17,
   "id": "21250aff",
   "metadata": {},
   "outputs": [
    {
     "data": {
      "text/plain": [
       "array([0.5, 1. , 1.5, 2. ])"
      ]
     },
     "execution_count": 17,
     "metadata": {},
     "output_type": "execute_result"
    }
   ],
   "source": [
    "a / 2"
   ]
  },
  {
   "cell_type": "code",
   "execution_count": 18,
   "id": "316f8e83",
   "metadata": {},
   "outputs": [
    {
     "data": {
      "text/plain": [
       "array([2, 2, 4, 4])"
      ]
     },
     "execution_count": 18,
     "metadata": {},
     "output_type": "execute_result"
    }
   ],
   "source": [
    "b = np.array([1,0,1,0])\n",
    "a + b"
   ]
  },
  {
   "cell_type": "code",
   "execution_count": 19,
   "id": "67e983a0",
   "metadata": {},
   "outputs": [
    {
     "data": {
      "text/plain": [
       "array([ 1,  4,  9, 16])"
      ]
     },
     "execution_count": 19,
     "metadata": {},
     "output_type": "execute_result"
    }
   ],
   "source": [
    "a ** 2"
   ]
  },
  {
   "cell_type": "code",
   "execution_count": 20,
   "id": "02b1f1fb",
   "metadata": {},
   "outputs": [
    {
     "data": {
      "text/plain": [
       "array([ 0.84147098,  0.90929743,  0.14112001, -0.7568025 ])"
      ]
     },
     "execution_count": 20,
     "metadata": {},
     "output_type": "execute_result"
    }
   ],
   "source": [
    "np.sin(a)"
   ]
  },
  {
   "cell_type": "markdown",
   "id": "10b791b2",
   "metadata": {},
   "source": [
    "###### LINEAR ALGEBRA !!!"
   ]
  },
  {
   "cell_type": "code",
   "execution_count": 23,
   "id": "fea340e9",
   "metadata": {},
   "outputs": [
    {
     "name": "stdout",
     "output_type": "stream",
     "text": [
      "[[1. 1. 1.]\n",
      " [1. 1. 1.]]\n",
      "[[2 2]\n",
      " [2 2]\n",
      " [2 2]]\n"
     ]
    },
    {
     "data": {
      "text/plain": [
       "array([[6., 6.],\n",
       "       [6., 6.]])"
      ]
     },
     "execution_count": 23,
     "metadata": {},
     "output_type": "execute_result"
    }
   ],
   "source": [
    "a = np.ones((2,3))\n",
    "print(a)\n",
    "\n",
    "b = np.full((3,2),2)\n",
    "print(b)\n",
    "\n",
    "np.matmul(a,b)"
   ]
  },
  {
   "cell_type": "code",
   "execution_count": 4,
   "id": "1cef9c14",
   "metadata": {},
   "outputs": [
    {
     "data": {
      "text/plain": [
       "np.float64(1.0)"
      ]
     },
     "execution_count": 4,
     "metadata": {},
     "output_type": "execute_result"
    }
   ],
   "source": [
    "a = np.identity(3)\n",
    "np.linalg.det(a)"
   ]
  },
  {
   "cell_type": "markdown",
   "id": "bcacadae",
   "metadata": {},
   "source": [
    "###### # For a lot more (https://docs.scipy.org/doc/numpy/reference/routines.math.html)\n",
    "###### # # For a lot more (https://docs.scipy.org/doc/numpy/reference/routines.linalg.html)\n",
    "\n",
    "# Determinant\n",
    "# Trace\n",
    "# Singular Vector Decomposition\n",
    "# Eigenvalues\n",
    "# Matrix Norm\n",
    "# Inverse\n",
    "# Etc...\n"
   ]
  },
  {
   "cell_type": "markdown",
   "id": "ff16b7b3",
   "metadata": {},
   "source": [
    "### Statistics"
   ]
  },
  {
   "cell_type": "code",
   "execution_count": 5,
   "id": "bba6b373",
   "metadata": {},
   "outputs": [
    {
     "data": {
      "text/plain": [
       "array([[1, 2, 3],\n",
       "       [4, 5, 6]])"
      ]
     },
     "execution_count": 5,
     "metadata": {},
     "output_type": "execute_result"
    }
   ],
   "source": [
    "stats = np.array([[1,2,3],[4,5,6]])\n",
    "stats"
   ]
  },
  {
   "cell_type": "code",
   "execution_count": 9,
   "id": "2f4d06f3",
   "metadata": {},
   "outputs": [
    {
     "name": "stdout",
     "output_type": "stream",
     "text": [
      "1\n",
      "6\n",
      "[1 2 3]\n",
      "[4 5 6]\n",
      "[1 4]\n",
      "[3 6]\n"
     ]
    }
   ],
   "source": [
    "print(np.min(stats))\n",
    "print(np.max(stats))\n",
    "print(np.min(stats, axis = 0))\n",
    "print(np.max(stats, axis = 0))\n",
    "print(np.min(stats, axis = 1))\n",
    "print(np.max(stats, axis = 1))"
   ]
  },
  {
   "cell_type": "code",
   "execution_count": null,
   "id": "b69964a3",
   "metadata": {},
   "outputs": [
    {
     "data": {
      "text/plain": [
       "np.int64(21)"
      ]
     },
     "execution_count": 10,
     "metadata": {},
     "output_type": "execute_result"
    }
   ],
   "source": [
    "np.sum(stats)\n",
    "## axis = 0, over all the rows in a column\n",
    "## axis = 1, over all the columns in a row"
   ]
  },
  {
   "cell_type": "markdown",
   "id": "dd591ea0",
   "metadata": {},
   "source": [
    "## Reorganizing arrays"
   ]
  },
  {
   "cell_type": "code",
   "execution_count": 21,
   "id": "247e5ba7",
   "metadata": {},
   "outputs": [
    {
     "name": "stdout",
     "output_type": "stream",
     "text": [
      "(2, 4)\n",
      "[[[1 2]\n",
      "  [3 4]]\n",
      "\n",
      " [[5 6]\n",
      "  [7 8]]]\n"
     ]
    }
   ],
   "source": [
    "before = np.array([[1,2,3,4],[5,6,7,8]])\n",
    "print(before.shape)\n",
    "\n",
    "after = before.reshape((2,2, 2))\n",
    "print(after)"
   ]
  },
  {
   "cell_type": "code",
   "execution_count": null,
   "id": "d546e7f4",
   "metadata": {},
   "outputs": [
    {
     "data": {
      "text/plain": [
       "array([[1, 2, 3, 4],\n",
       "       [5, 6, 7, 8],\n",
       "       [1, 2, 3, 4],\n",
       "       [5, 6, 7, 8]])"
      ]
     },
     "execution_count": 24,
     "metadata": {},
     "output_type": "execute_result"
    }
   ],
   "source": [
    "# Vertically stacking matrices\n",
    "v1 = np.array([1,2,3,4])\n",
    "v2 = np.array([5,6,7,8])\n",
    "\n",
    "np.vstack([v1,v2,v1,v2])"
   ]
  },
  {
   "cell_type": "code",
   "execution_count": 25,
   "id": "4708f00f",
   "metadata": {},
   "outputs": [
    {
     "data": {
      "text/plain": [
       "array([[0., 0., 0., 0., 1., 1., 1., 1., 1.],\n",
       "       [0., 0., 0., 0., 1., 1., 1., 1., 1.]])"
      ]
     },
     "execution_count": 25,
     "metadata": {},
     "output_type": "execute_result"
    }
   ],
   "source": [
    "h1 = np.zeros((2,4))\n",
    "h2 = np.ones((2,5))\n",
    "\n",
    "np.hstack((h1,h2))"
   ]
  },
  {
   "cell_type": "markdown",
   "id": "9ac8ff6e",
   "metadata": {},
   "source": [
    "##### Miscllaneous"
   ]
  },
  {
   "cell_type": "markdown",
   "id": "359a535a",
   "metadata": {},
   "source": [
    "1. Load Data from File"
   ]
  },
  {
   "cell_type": "code",
   "execution_count": 35,
   "id": "c24c5bd6",
   "metadata": {},
   "outputs": [
    {
     "name": "stdout",
     "output_type": "stream",
     "text": [
      "[[  1  13  21  11 196  75   4   3  34   6   7   8   0   1   2   3   4   5]\n",
      " [  3  42  12  33 766  75   4  55   6   4   3   4   5   6   7   0  11  12]\n",
      " [  1  22  33  11 999  11   2   1  78   0   1   2   9   8   7   1  76  88]]\n"
     ]
    }
   ],
   "source": [
    "filedata = np.genfromtxt('data.txt',delimiter=',')\n",
    "filedata = filedata.astype('int32')\n",
    "print(filedata)"
   ]
  },
  {
   "cell_type": "markdown",
   "id": "393ef232",
   "metadata": {},
   "source": [
    "##### Boolean Masking and Advanced Indexing"
   ]
  },
  {
   "cell_type": "code",
   "execution_count": 31,
   "id": "bfc04085",
   "metadata": {},
   "outputs": [
    {
     "name": "stdout",
     "output_type": "stream",
     "text": [
      "[[False False False False  True  True False False False False False False\n",
      "  False False False False False False]\n",
      " [False False False False  True  True False  True False False False False\n",
      "  False False False False False False]\n",
      " [False False False False  True False False False  True False False False\n",
      "  False False False False  True  True]]\n",
      "[196  75 766  75  55 999  78  76  88]\n"
     ]
    }
   ],
   "source": [
    "print(filedata > 50)\n",
    "print(filedata[filedata > 50])"
   ]
  },
  {
   "cell_type": "code",
   "execution_count": 33,
   "id": "dc3420ac",
   "metadata": {},
   "outputs": [
    {
     "data": {
      "text/plain": [
       "array([2, 4, 5])"
      ]
     },
     "execution_count": 33,
     "metadata": {},
     "output_type": "execute_result"
    }
   ],
   "source": [
    "# You can index with list in NumPY\n",
    "a = np.array([1,2,3,4,5,6,7,8])\n",
    "a[[1,3,4]]"
   ]
  },
  {
   "cell_type": "code",
   "execution_count": 38,
   "id": "6ffde867",
   "metadata": {},
   "outputs": [
    {
     "name": "stdout",
     "output_type": "stream",
     "text": [
      "[False False False False  True  True False  True  True False False False\n",
      " False False False False  True  True]\n",
      "[False False False]\n"
     ]
    }
   ],
   "source": [
    "print(np.any(filedata > 50, axis=0))\n",
    "print(np.all(filedata > 50, axis=1))"
   ]
  },
  {
   "cell_type": "code",
   "execution_count": 40,
   "id": "df0d0f35",
   "metadata": {},
   "outputs": [
    {
     "data": {
      "text/plain": [
       "array([[ True,  True,  True,  True, False, False,  True,  True,  True,\n",
       "         True,  True,  True,  True,  True,  True,  True,  True,  True],\n",
       "       [ True,  True,  True,  True, False, False,  True, False,  True,\n",
       "         True,  True,  True,  True,  True,  True,  True,  True,  True],\n",
       "       [ True,  True,  True,  True, False,  True,  True,  True, False,\n",
       "         True,  True,  True,  True,  True,  True,  True, False, False]])"
      ]
     },
     "execution_count": 40,
     "metadata": {},
     "output_type": "execute_result"
    }
   ],
   "source": [
    "(~(filedata > 50) & (filedata < 100))"
   ]
  },
  {
   "cell_type": "code",
   "execution_count": 41,
   "id": "ec3f19c3",
   "metadata": {},
   "outputs": [
    {
     "name": "stdout",
     "output_type": "stream",
     "text": [
      "[[ 1  2  3  4  5]\n",
      " [ 6  7  8  9 10]\n",
      " [11 12 13 14 15]\n",
      " [16 17 18 19 20]\n",
      " [21 22 23 24 25]\n",
      " [26 27 28 29 30]]\n"
     ]
    }
   ],
   "source": [
    "arr = np.array([[1,2,3,4,5],[6,7,8,9,10],[11,12,13,14,15],[16,17,18,19,20],[21,22,23,24,25],[26,27,28,29,30]])\n",
    "print(arr)"
   ]
  },
  {
   "cell_type": "code",
   "execution_count": null,
   "id": "76c92f9e",
   "metadata": {},
   "outputs": [
    {
     "name": "stdout",
     "output_type": "stream",
     "text": [
      "[[11 12]\n",
      " [16 17]]\n",
      "[ 2  8 14 20]\n",
      "[[ 4  5]\n",
      " [24 25]\n",
      " [29 30]]\n"
     ]
    }
   ],
   "source": [
    "print(arr[2:4,0:2])\n",
    "print(arr[[0,1,2,3],[1,2,3,4]])\n",
    "print(arr[[0,4,5],3:])\n"
   ]
  }
 ],
 "metadata": {
  "kernelspec": {
   "display_name": "Python 3",
   "language": "python",
   "name": "python3"
  },
  "language_info": {
   "codemirror_mode": {
    "name": "ipython",
    "version": 3
   },
   "file_extension": ".py",
   "mimetype": "text/x-python",
   "name": "python",
   "nbconvert_exporter": "python",
   "pygments_lexer": "ipython3",
   "version": "3.12.5"
  }
 },
 "nbformat": 4,
 "nbformat_minor": 5
}
